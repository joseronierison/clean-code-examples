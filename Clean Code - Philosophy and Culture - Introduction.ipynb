{
 "cells": [
  {
   "cell_type": "markdown",
   "metadata": {
    "slideshow": {
     "slide_type": "slide"
    }
   },
   "source": [
    "# Código Limpo \n",
    "\n",
    "### Filosofia e Cultura para o Time de Desenvolvimento\n",
    "\n",
    "\n",
    "Por José Roniérison e Vitor Nogueira"
   ]
  },
  {
   "cell_type": "markdown",
   "metadata": {
    "slideshow": {
     "slide_type": "slide"
    }
   },
   "source": [
    "## O que é um código limpo?"
   ]
  },
  {
   "cell_type": "markdown",
   "metadata": {
    "slideshow": {
     "slide_type": "subslide"
    }
   },
   "source": [
    "> Eu poderia listar todas as qualidades que eu espero de um código limpo, mas uma sobrepõe todas as outras qualidades as outras. Um código limpo parece sempre ter sido escrito por alguém que se importava. Não há nada óbvio que você possa fazer para melhorá-lo (o código). Todos essas coisas óbvias foram pensadas pelo autor e se você tentar imaginar melhorias, você chegará exatamente onde estava [..]\n",
    "\n",
    "> **Michael Feathers**"
   ]
  },
  {
   "cell_type": "markdown",
   "metadata": {
    "slideshow": {
     "slide_type": "subslide"
    }
   },
   "source": [
    "> Um código limpo pode ser lido, melhorado e desenvolvido por outra pessoa que não seja o seu autor. Ele tem testes unitários e bons nomes. Ele tem uma forma em vez de muitas para fazer uma coisa. Tem poucas dependências, as quais estão explicitamente definidas e provê um API mínima de boa qualidade. [..]\n",
    "\n",
    "> **Dave Thomas**"
   ]
  },
  {
   "cell_type": "markdown",
   "metadata": {
    "collapsed": true,
    "slideshow": {
     "slide_type": "subslide"
    }
   },
   "source": [
    "> Todos testes rodam, não contém duplicações, todas ideias do design do sistema estão bem claras, minimiza o número de entidades como classes, métodos, funções e assim por diante.\n",
    "\n",
    "> **Ron Jeffries**"
   ]
  },
  {
   "cell_type": "markdown",
   "metadata": {
    "slideshow": {
     "slide_type": "slide"
    }
   },
   "source": [
    "# Estamos aqui para criar um código limpo e elegante ou para criar produtos?"
   ]
  },
  {
   "cell_type": "markdown",
   "metadata": {
    "slideshow": {
     "slide_type": "fragment"
    }
   },
   "source": [
    "* Duck Tape Developer"
   ]
  },
  {
   "cell_type": "markdown",
   "metadata": {
    "slideshow": {
     "slide_type": "fragment"
    }
   },
   "source": [
    "* Trade-off"
   ]
  },
  {
   "cell_type": "markdown",
   "metadata": {
    "slideshow": {
     "slide_type": "subslide"
    }
   },
   "source": [
    "# Um código sujo pode fazer uma empresa falir?"
   ]
  },
  {
   "cell_type": "markdown",
   "metadata": {
    "slideshow": {
     "slide_type": "fragment"
    }
   },
   "source": [
    "* Ariana5"
   ]
  },
  {
   "cell_type": "markdown",
   "metadata": {
    "slideshow": {
     "slide_type": "fragment"
    }
   },
   "source": [
    "* Custos para implementar novas coisas/manter"
   ]
  },
  {
   "cell_type": "markdown",
   "metadata": {
    "slideshow": {
     "slide_type": "slide"
    }
   },
   "source": [
    "# O que um código sujo pode causar?"
   ]
  },
  {
   "cell_type": "markdown",
   "metadata": {
    "slideshow": {
     "slide_type": "fragment"
    }
   },
   "source": [
    "* Mais difícil de solucionar um bug"
   ]
  },
  {
   "cell_type": "markdown",
   "metadata": {
    "slideshow": {
     "slide_type": "fragment"
    }
   },
   "source": [
    "* Aumenta rigidez do código"
   ]
  },
  {
   "cell_type": "markdown",
   "metadata": {
    "slideshow": {
     "slide_type": "fragment"
    }
   },
   "source": [
    "* Aumenta o tempo de desenvolvimento"
   ]
  },
  {
   "cell_type": "markdown",
   "metadata": {
    "slideshow": {
     "slide_type": "fragment"
    }
   },
   "source": [
    "* Aumenta custos com infra e devel"
   ]
  },
  {
   "cell_type": "markdown",
   "metadata": {
    "slideshow": {
     "slide_type": "slide"
    }
   },
   "source": [
    "# O código tende ao caos\n",
    "\n",
    "Quando ninguém organiza o código, cada correção/feature aumenta a entropia do código\n",
    "\n",
    "<center><img src=\"http://vignette3.wikia.nocookie.net/creepypasta/images/8/8b/1entropy.gif/revision/latest?cb=20130813113158\" style=\"height: 250px;\" /></center>"
   ]
  },
  {
   "cell_type": "markdown",
   "metadata": {
    "slideshow": {
     "slide_type": "subslide"
    }
   },
   "source": [
    "### Temos que diminuir a desordem no código, não deixá-la aumentar"
   ]
  },
  {
   "cell_type": "markdown",
   "metadata": {
    "slideshow": {
     "slide_type": "slide"
    }
   },
   "source": [
    "# Cultura de desenvolvimento"
   ]
  },
  {
   "cell_type": "markdown",
   "metadata": {
    "slideshow": {
     "slide_type": "subslide"
    }
   },
   "source": [
    "#### Item 1.1\n",
    "> O guia dos valores fomentados neste documento tem como base o código de cultura da Ignição Digital, desta forma, é pretendida uma aplicação prática do mesmo no contexto de desenvolvimento de software."
   ]
  },
  {
   "cell_type": "markdown",
   "metadata": {
    "slideshow": {
     "slide_type": "subslide"
    }
   },
   "source": [
    "**Item 2.1**\n",
    "\n",
    "> Preocupação com a qualidade do código durante todo processo de desenvolvimento, deixando claras as escolhas e os riscos."
   ]
  },
  {
   "cell_type": "markdown",
   "metadata": {
    "slideshow": {
     "slide_type": "subslide"
    }
   },
   "source": [
    "**Item 2.2**\n",
    "\n",
    "> A qualidade tem precedência sobre a entrega."
   ]
  },
  {
   "cell_type": "markdown",
   "metadata": {
    "slideshow": {
     "slide_type": "subslide"
    }
   },
   "source": [
    "** Item 2.3**\n",
    "\n",
    "> A qualidade só deve ser comprometida por razão da entrega que impactem a empresa ou os clientes"
   ]
  },
  {
   "cell_type": "markdown",
   "metadata": {},
   "source": [
    "**Item 3.2**\n",
    "\n",
    "> Todo detalhe deve ser levado em consideração, do nome de uma variável a um espaçamento incorreto após a nomeação da função"
   ]
  },
  {
   "cell_type": "markdown",
   "metadata": {},
   "source": [
    "**Item 3.3**\n",
    "\n",
    "> Todos são responsáveis pelo processo de qualidade [..]"
   ]
  },
  {
   "cell_type": "markdown",
   "metadata": {
    "collapsed": true,
    "slideshow": {
     "slide_type": "slide"
    }
   },
   "source": [
    "### References:\n",
    " \n",
    "* Robert C. Martin, Clean Code\n",
    "* Design Patterns, Erich Gamma\n",
    "* Test Driven Development, Kent Beck\n",
    "* Ariana - 5 <http://www.bbc.com/portuguese/noticias/2015/05/150513_vert_fut_bug_digital_ml>\n",
    "* Man accidentally 'deletes his entire company' with one line of bad code - <http://www.independent.co.uk/life-style/gadgets-and-tech/news/man-accidentally-deletes-his-entire-company-with-one-line-of-bad-code-a6984256.html>\n",
    "* Code as a Cause of Project Failure - <http://docondev.com/blog/2010/10/code-as-cause-of-project-failure>\n",
    "* The Cost of Code? - <http://thecleancoder.blogspot.com.br/2010/10/cost-of-code.html>\n",
    "* SRP By Uncle Bob - https://www.youtube.com/watch?v=Gt0M_OHKhQE\n",
    "* Clean Architeture and Design - https://www.youtube.com/watch?v=Nsjsiz2A9mg\n",
    "* OO Design - http://www.oodesign.com/\n",
    "* Código de Cultura: https://docs.google.com/document/d/1xbm6FdoSHei2ptzmQJaZMd0na4h8IN2AV3Jch9dY1kA/edit?usp=sharing"
   ]
  }
 ],
 "metadata": {
  "celltoolbar": "Slideshow",
  "kernelspec": {
   "display_name": "Ruby 2.2.3",
   "language": "ruby",
   "name": "ruby"
  },
  "language_info": {
   "file_extension": ".rb",
   "mimetype": "application/x-ruby",
   "name": "ruby",
   "version": "2.2.3"
  }
 },
 "nbformat": 4,
 "nbformat_minor": 0
}
