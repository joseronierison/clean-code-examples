{
 "cells": [
  {
   "cell_type": "markdown",
   "metadata": {
    "slideshow": {
     "slide_type": "slide"
    }
   },
   "source": [
    "# Clean Code \n",
    "### Philosophy and Culture for Devel Team\n",
    "\n",
    "\n",
    "By José Roniérison"
   ]
  },
  {
   "cell_type": "markdown",
   "metadata": {
    "slideshow": {
     "slide_type": "slide"
    }
   },
   "source": [
    "## What is a clean code?"
   ]
  },
  {
   "cell_type": "markdown",
   "metadata": {
    "slideshow": {
     "slide_type": "subslide"
    }
   },
   "source": [
    "\"I could list all of the qualities that I notice in clean code, but there is one overarching quality that leads to all of them. Clean code always looks like it was written by someone who cares. There is nothing obvious that you can do to make it better. All of those things were thought about by the code’s author, and if you try to imagine improvements, you’re led back to where you are, sitting in appreciation of the code someone left for you—code left by someone who cares deeply about the craf.\"\n",
    "- Michael Feathers"
   ]
  },
  {
   "cell_type": "markdown",
   "metadata": {
    "slideshow": {
     "slide_type": "subslide"
    }
   },
   "source": [
    "\"Clean code can be read, and enhanced by a developer other than its original author. It has unit and acceptance tests. It has meaningful names. It provides one way rather than many ways for doing one thing. It has minimal dependencies, which are explicitly defined, and provides a clear and minimal API. Code should be literate since depending on the language, not all necessary information can be expressed clearly in code alone.\"\n",
    "- Dave Thomas"
   ]
  },
  {
   "cell_type": "markdown",
   "metadata": {
    "collapsed": true,
    "slideshow": {
     "slide_type": "subslide"
    }
   },
   "source": [
    "\"Runs all the tests, contains no duplication, expresses all the design ideas that are in the system, minimizes the number of entities such as classes, methods, functions, and the like.\"\n",
    "- Ron Jeffries"
   ]
  },
  {
   "cell_type": "markdown",
   "metadata": {
    "slideshow": {
     "slide_type": "subslide"
    }
   },
   "source": [
    "\"You know you are working on clean code when each routine you read turns out to be pretty much what you expected. You can call it beautiful code when the code also makes it look like the language was made for the problem.\"\n",
    "- Ward Cunningham"
   ]
  },
  {
   "cell_type": "markdown",
   "metadata": {
    "slideshow": {
     "slide_type": "slide"
    }
   },
   "source": [
    "# The importance of a Clean Code\n",
    "\n",
    "What a dirty code can do with a project/company"
   ]
  },
  {
   "cell_type": "markdown",
   "metadata": {
    "slideshow": {
     "slide_type": "fragment"
    }
   },
   "source": [
    "* Is more difficult to fix a bug"
   ]
  },
  {
   "cell_type": "markdown",
   "metadata": {
    "slideshow": {
     "slide_type": "fragment"
    }
   },
   "source": [
    "* New implementations are more slow (ridgity)"
   ]
  },
  {
   "cell_type": "markdown",
   "metadata": {
    "slideshow": {
     "slide_type": "fragment"
    }
   },
   "source": [
    "* Increases the code cost"
   ]
  },
  {
   "cell_type": "markdown",
   "metadata": {
    "slideshow": {
     "slide_type": "fragment"
    }
   },
   "source": [
    "* Increases the infrastructure cost"
   ]
  },
  {
   "cell_type": "markdown",
   "metadata": {
    "slideshow": {
     "slide_type": "subslide"
    }
   },
   "source": [
    "# Can a dirty code crash a company or a project?"
   ]
  },
  {
   "cell_type": "markdown",
   "metadata": {
    "slideshow": {
     "slide_type": "fragment"
    }
   },
   "source": [
    "* Ariana5"
   ]
  },
  {
   "cell_type": "markdown",
   "metadata": {
    "slideshow": {
     "slide_type": "fragment"
    }
   },
   "source": [
    "* Cost"
   ]
  },
  {
   "cell_type": "markdown",
   "metadata": {
    "slideshow": {
     "slide_type": "slide"
    }
   },
   "source": [
    "# The code tends to chaos\n",
    "\n",
    "When no one organizes the code, each hotfix tends to increase the entropy of code .."
   ]
  },
  {
   "cell_type": "markdown",
   "metadata": {
    "slideshow": {
     "slide_type": "fragment"
    }
   },
   "source": [
    "So we should refactor all the time "
   ]
  },
  {
   "cell_type": "markdown",
   "metadata": {
    "slideshow": {
     "slide_type": "slide"
    }
   },
   "source": [
    "# The worst enemy of clean code is duplication"
   ]
  },
  {
   "cell_type": "markdown",
   "metadata": {
    "slideshow": {
     "slide_type": "fragment"
    }
   },
   "source": [
    "* Write the code in right place"
   ]
  },
  {
   "cell_type": "markdown",
   "metadata": {
    "slideshow": {
     "slide_type": "fragment"
    }
   },
   "source": [
    "* Refactor your code to eliminate code duplication"
   ]
  },
  {
   "cell_type": "markdown",
   "metadata": {
    "slideshow": {
     "slide_type": "slide"
    }
   },
   "source": [
    "# But what is a developer who cares?"
   ]
  },
  {
   "cell_type": "markdown",
   "metadata": {
    "slideshow": {
     "slide_type": "slide"
    }
   },
   "source": [
    "# Variables\n",
    "\n",
    "The name of variables, function, classes, folders and namespaces should to answer all the big questions. It should to tell you why it exists, what it does and how it is used. If name require a commnet, then the namedoes not revel its intent."
   ]
  },
  {
   "cell_type": "markdown",
   "metadata": {
    "slideshow": {
     "slide_type": "subslide"
    }
   },
   "source": [
    "## Must describe what contains and reveal its intention\n",
    "\n",
    "This allows you understand the code better"
   ]
  },
  {
   "cell_type": "markdown",
   "metadata": {
    "slideshow": {
     "slide_type": "subslide"
    }
   },
   "source": [
    "## Must describe the data type\n",
    "\n",
    "So you can use the data methods as map, gsub, lenght, and so on."
   ]
  },
  {
   "cell_type": "markdown",
   "metadata": {
    "slideshow": {
     "slide_type": "subslide"
    }
   },
   "source": [
    "## Must make sense in the context which is inserted\n",
    "\n",
    "The understanding of a name depends of the class, namespace or folder where it is placed."
   ]
  },
  {
   "cell_type": "markdown",
   "metadata": {
    "slideshow": {
     "slide_type": "subslide"
    }
   },
   "source": [
    "## Avoid disinformation\n",
    "\n",
    "Don't use variables with name as aux, opt, sys, xopt, and so on."
   ]
  },
  {
   "cell_type": "markdown",
   "metadata": {
    "slideshow": {
     "slide_type": "subslide"
    }
   },
   "source": [
    "## Make meaningful distinctions\n",
    "\n",
    "Is a bad pratice create two variables with name UserInfo and UserData"
   ]
  },
  {
   "cell_type": "markdown",
   "metadata": {
    "slideshow": {
     "slide_type": "subslide"
    }
   },
   "source": [
    "## Use pronunceable names\n",
    "\n",
    "When you talk about code with others developers you should pronounce the variable names.  "
   ]
  },
  {
   "cell_type": "markdown",
   "metadata": {
    "slideshow": {
     "slide_type": "subslide"
    }
   },
   "source": [
    "## Use searchable names\n",
    "\n",
    "Often you need to search for a variable to understand the code, fix a bug, and so on."
   ]
  },
  {
   "cell_type": "markdown",
   "metadata": {
    "slideshow": {
     "slide_type": "subslide"
    }
   },
   "source": [
    "\n",
    "## Don't care if you waste a few time choosing a good name"
   ]
  },
  {
   "cell_type": "markdown",
   "metadata": {
    "slideshow": {
     "slide_type": "subslide"
    }
   },
   "source": [
    "## Good names avoid mistakes"
   ]
  },
  {
   "cell_type": "markdown",
   "metadata": {
    "slideshow": {
     "slide_type": "slide"
    }
   },
   "source": [
    "# S.O.L.I.D\n",
    "\n",
    "Lets talk about it"
   ]
  },
  {
   "cell_type": "markdown",
   "metadata": {
    "slideshow": {
     "slide_type": "subslide"
    }
   },
   "source": [
    "### SRP (Single-responsiblity principle)\n",
    "#### You can have only one reason to change a class."
   ]
  },
  {
   "cell_type": "markdown",
   "metadata": {
    "slideshow": {
     "slide_type": "subslide"
    }
   },
   "source": [
    "Class or method should have only one reason to change and a reason can viewed as someone who interacts with the system."
   ]
  },
  {
   "cell_type": "code",
   "execution_count": null,
   "metadata": {
    "collapsed": true,
    "slideshow": {
     "slide_type": "subslide"
    }
   },
   "outputs": [],
   "source": [
    "#bad\n",
    "class FooController\n",
    "  #...\n",
    "  def show\n",
    "    if foo_has_something?\n",
    "      #do something\n",
    "    end\n",
    "    \n",
    "    #do something else\n",
    "  end\n",
    "  \n",
    "  private\n",
    "  def foo_has_something?\n",
    "    @foo.something.count > 0\n",
    "  end\n",
    "  #...\n",
    "end"
   ]
  },
  {
   "cell_type": "code",
   "execution_count": null,
   "metadata": {
    "collapsed": true,
    "slideshow": {
     "slide_type": "subslide"
    }
   },
   "outputs": [],
   "source": [
    "#good\n",
    "\n",
    "#foor_controller.rb\n",
    "class FooController\n",
    "  #...\n",
    "  def show\n",
    "    if @foo.has_something?\n",
    "      #do something\n",
    "    end\n",
    "    \n",
    "    #do something else\n",
    "  end\n",
    "  #...\n",
    "end\n",
    "\n",
    "#foo.rb\n",
    "class Foo\n",
    "  def foo_has_something?\n",
    "    something.count > 0\n",
    "  end\n",
    "end"
   ]
  },
  {
   "cell_type": "code",
   "execution_count": null,
   "metadata": {
    "collapsed": true,
    "slideshow": {
     "slide_type": "subslide"
    }
   },
   "outputs": [],
   "source": [
    "#bad\n",
    "class Notifier\n",
    "  def send_message(message)\n",
    "    # send message\n",
    "  end\n",
    "  \n",
    "  def generate_reports\n",
    "    # generate reports\n",
    "  end\n",
    "  \n",
    "  def authenticate\n",
    "    # do authentication\n",
    "  end\n",
    "end"
   ]
  },
  {
   "cell_type": "code",
   "execution_count": null,
   "metadata": {
    "collapsed": true,
    "slideshow": {
     "slide_type": "subslide"
    }
   },
   "outputs": [],
   "source": [
    "#good\n",
    "class Notifier\n",
    "  def send_message(message)\n",
    "    # send message\n",
    "  end\n",
    "end\n",
    "\n",
    "class NotifierReport\n",
    "  def generate\n",
    "    # generate reports\n",
    "  end\n",
    "end\n",
    "\n",
    "class NotifierAuthentication\n",
    "  def authenticate\n",
    "    # do authentication\n",
    "  end\n",
    "end"
   ]
  },
  {
   "cell_type": "markdown",
   "metadata": {
    "slideshow": {
     "slide_type": "subslide"
    }
   },
   "source": [
    "### OCP (Open Close Principle) \n",
    "#### You can have only one reason to change a class."
   ]
  },
  {
   "cell_type": "code",
   "execution_count": null,
   "metadata": {
    "collapsed": true
   },
   "outputs": [],
   "source": [
    "#bad\n",
    "class GraphicEditor\n",
    "  def draw_shape(shape) \n",
    "   if s.m_type==1\n",
    "     draw_circle(shape);\n",
    "   elsif s.m_type==2\n",
    "     draw_rectangle(shape);\n",
    "   end\n",
    "  end\n",
    "  \n",
    "  def draw_circle(circle)\n",
    "    #draw the circle\n",
    "  end\n",
    "  \n",
    "  def draw_rectangle(rectangle)\n",
    "    #draw the rectangle\n",
    "  end\n",
    "end\n",
    " \n",
    "class Shape\n",
    "  def m_type=(m_type)\n",
    "    @m_type=m_type\n",
    "  end\n",
    "  \n",
    "  def m_type\n",
    "    @m_type\n",
    "  end\n",
    "end\n",
    " \n",
    "class Rectangle < Shape \n",
    "  def initialize\n",
    "    m_type=1\n",
    "  end\n",
    "end\n",
    " \n",
    "class Circle < Shape \n",
    "  def initialize\n",
    "    m_type=2\n",
    "  end\n",
    "end "
   ]
  },
  {
   "cell_type": "code",
   "execution_count": null,
   "metadata": {
    "collapsed": true
   },
   "outputs": [],
   "source": [
    "#good\n",
    "class GraphicEditor\n",
    "  def draw_shape(shape) \n",
    "    shape.draw\n",
    "  end\n",
    "end\n",
    "\n",
    "class Shape\n",
    "  def draw\n",
    "    #draw something\n",
    "  end\n",
    "end\n",
    " \n",
    "class Rectangle < Shape \n",
    "  def draw\n",
    "    #draw the rectangle\n",
    "  end\n",
    "end\n",
    " \n",
    "class Circle < Shape \n",
    "  def draw\n",
    "    #draw the circle\n",
    "  end\n",
    "end "
   ]
  },
  {
   "cell_type": "code",
   "execution_count": null,
   "metadata": {
    "collapsed": true,
    "slideshow": {
     "slide_type": "subslide"
    }
   },
   "outputs": [],
   "source": [
    "#bad\n",
    "class Canvas\n",
    "  def draw(component)\n",
    "    case component.type\n",
    "    when 'popup'\n",
    "      generate_popup_html(component)\n",
    "    when 'section'\n",
    "      generate_section_html(component)\n",
    "    end\n",
    "  end\n",
    "  \n",
    "  def generate_popup_html(popup_component)\n",
    "    #build html without html, head and body tags\n",
    "  end\n",
    "  \n",
    "  def generate_section_html(section_component)\n",
    "    #build complete HTML\n",
    "  end\n",
    "end\n",
    "\n",
    "class Component\n",
    "  def type=(type)\n",
    "    @type=type\n",
    "  end\n",
    "  \n",
    "  def type\n",
    "    @type\n",
    "  end\n",
    "end\n",
    "\n",
    "class PopupComponent\n",
    "  def initializer\n",
    "    type='popup'\n",
    "  end\n",
    "  \n",
    "  #...\n",
    "end\n",
    "\n",
    "class SectionComponent\n",
    "  def initializer\n",
    "    type='section'\n",
    "  end\n",
    "  \n",
    "  #..\n",
    "end"
   ]
  },
  {
   "cell_type": "code",
   "execution_count": null,
   "metadata": {
    "collapsed": true,
    "slideshow": {
     "slide_type": "subslide"
    }
   },
   "outputs": [],
   "source": [
    "#good\n",
    "class Canvas\n",
    "  def draw(component)\n",
    "    component.html\n",
    "  end\n",
    "end\n",
    "\n",
    "class Component\n",
    "  def html\n",
    "    #some default behavior\n",
    "  end\n",
    "end\n",
    "\n",
    "class PopupComponent < Component\n",
    "  def html\n",
    "    #build html without html, head and body tags\n",
    "  end\n",
    "end\n",
    "\n",
    "class SectionComponent < Component  \n",
    "  def html\n",
    "    #build complete HTML\n",
    "  end\n",
    "end"
   ]
  },
  {
   "cell_type": "markdown",
   "metadata": {
    "slideshow": {
     "slide_type": "subslide"
    }
   },
   "source": [
    "### LSP (Liskov substitution principle)\n",
    "#### Is a must you can exchange a derived object for her base class."
   ]
  },
  {
   "cell_type": "markdown",
   "metadata": {
    "slideshow": {
     "slide_type": "subslide"
    }
   },
   "source": [
    "### ISP (Interface Segregation Principle)\n",
    "#### Clients can't be forced to implement what will not use."
   ]
  },
  {
   "cell_type": "markdown",
   "metadata": {
    "slideshow": {
     "slide_type": "subslide"
    }
   },
   "source": [
    "### DIP (Dependency Inversion Principle)\n",
    "#### High Level Classes --> Abstraction Layer --> Low Level Classes."
   ]
  },
  {
   "cell_type": "markdown",
   "metadata": {
    "slideshow": {
     "slide_type": "slide"
    }
   },
   "source": [
    "# Avoid if inside if, blocks inside blocks and so on"
   ]
  },
  {
   "cell_type": "markdown",
   "metadata": {
    "slideshow": {
     "slide_type": "slide"
    }
   },
   "source": [
    "# Methods\n",
    "\n",
    "Is a must methods with only one responsability, small, good names and low complexity"
   ]
  },
  {
   "cell_type": "markdown",
   "metadata": {
    "slideshow": {
     "slide_type": "subslide"
    }
   },
   "source": [
    "## Methods name should have verb or a verb phrase\n",
    "\n",
    "If method do somenthing, it should have the verb in name"
   ]
  },
  {
   "cell_type": "markdown",
   "metadata": {
    "slideshow": {
     "slide_type": "subslide"
    }
   },
   "source": [
    "## Methods must do only one thing (SRP)\n",
    "\n",
    "And do it well"
   ]
  },
  {
   "cell_type": "markdown",
   "metadata": {
    "slideshow": {
     "slide_type": "subslide"
    }
   },
   "source": [
    "## Methods should be small\n",
    "\n",
    "If a method does only one thing, it should be small too"
   ]
  },
  {
   "cell_type": "markdown",
   "metadata": {
    "slideshow": {
     "slide_type": "subslide"
    }
   },
   "source": [
    "## Methods does what its name says that will do\n",
    "\n",
    "Avoid side effect"
   ]
  },
  {
   "cell_type": "markdown",
   "metadata": {
    "slideshow": {
     "slide_type": "slide"
    }
   },
   "source": [
    "# Class"
   ]
  },
  {
   "cell_type": "markdown",
   "metadata": {
    "slideshow": {
     "slide_type": "subslide"
    }
   },
   "source": [
    "## Class name should have noun or a noun phrase\n",
    "\n",
    "Avoid verbs in class name."
   ]
  },
  {
   "cell_type": "markdown",
   "metadata": {
    "slideshow": {
     "slide_type": "slide"
    }
   },
   "source": [
    "## Comments"
   ]
  },
  {
   "cell_type": "markdown",
   "metadata": {
    "slideshow": {
     "slide_type": "slide"
    }
   },
   "source": [
    "## Indent"
   ]
  },
  {
   "cell_type": "markdown",
   "metadata": {
    "collapsed": false,
    "slideshow": {
     "slide_type": "slide"
    }
   },
   "source": [
    "## Logs"
   ]
  },
  {
   "cell_type": "markdown",
   "metadata": {
    "slideshow": {
     "slide_type": "slide"
    }
   },
   "source": [
    "## OO Patterns"
   ]
  },
  {
   "cell_type": "markdown",
   "metadata": {
    "slideshow": {
     "slide_type": "slide"
    }
   },
   "source": [
    "## Automatized test and TDD"
   ]
  },
  {
   "cell_type": "markdown",
   "metadata": {
    "collapsed": true
   },
   "source": [
    "### References:\n",
    " \n",
    "* Robert C. Martin, Clean Code\n",
    "* Design Patterns, Erich Gamma\n",
    "* Test Driven Development, Kent Beck\n",
    "* Ariana - 5 <http://www.bbc.com/portuguese/noticias/2015/05/150513_vert_fut_bug_digital_ml>\n",
    "* Man accidentally 'deletes his entire company' with one line of bad code - <http://www.independent.co.uk/life-style/gadgets-and-tech/news/man-accidentally-deletes-his-entire-company-with-one-line-of-bad-code-a6984256.html>\n",
    "* Code as a Cause of Project Failure - <http://docondev.com/blog/2010/10/code-as-cause-of-project-failure>\n",
    "* The Cost of Code? - <http://thecleancoder.blogspot.com.br/2010/10/cost-of-code.html>\n",
    "* SRP By Uncle Bob - https://www.youtube.com/watch?v=Gt0M_OHKhQE\n",
    "* Clean Architeture and Design - https://www.youtube.com/watch?v=Nsjsiz2A9mg"
   ]
  }
 ],
 "metadata": {
  "celltoolbar": "Slideshow",
  "kernelspec": {
   "display_name": "Ruby 2.2.3",
   "language": "ruby",
   "name": "ruby"
  },
  "language_info": {
   "file_extension": ".rb",
   "mimetype": "application/x-ruby",
   "name": "ruby",
   "version": "2.2.3"
  }
 },
 "nbformat": 4,
 "nbformat_minor": 0
}
